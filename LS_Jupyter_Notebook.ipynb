{
    "cells": [
        {
            "metadata": {},
            "cell_type": "markdown",
            "source": "<center>\n    <img src=\"https://s3-api.us-geo.objectstorage.softlayer.net/cf-courses-data/CognitiveClass/Logos/organization_logo/organization_logo.png\" width=\"300\" alt=\"cognitiveclass.ai logo\"  />\n</center>\n"
        },
        {
            "metadata": {},
            "cell_type": "markdown",
            "source": "#### Add your code below following the instructions given in the course\n"
        },
        {
            "metadata": {},
            "cell_type": "markdown",
            "source": "<h1> My Jupyter Noteboook on IBM Watson Studio</h1>"
        },
        {
            "metadata": {},
            "cell_type": "markdown",
            "source": "<b> Lauren Sousa</b>\n<p>Media Industry Professional</p>"
        },
        {
            "metadata": {},
            "cell_type": "markdown",
            "source": "<p> I am interested in data science because I am a curious person who wants to understand the world around me.  Data science allows me to understand how other data scientists are coming to some of the most influential conclusions in the world, and it allows me to come to my own conclusions as well. </p>"
        },
        {
            "metadata": {},
            "cell_type": "markdown",
            "source": "<h3> I intend for the code below to render \"Hello World\" in Python </h3>"
        },
        {
            "metadata": {},
            "cell_type": "code",
            "source": "print(\"Hello World\")",
            "execution_count": 3,
            "outputs": [
                {
                    "output_type": "stream",
                    "text": "Hello World\n",
                    "name": "stdout"
                }
            ]
        },
        {
            "metadata": {},
            "cell_type": "markdown",
            "source": "<hr>\n\n<h3> Some Facts About Jupyter Notebooks</h3>\n\n<p>from <a href\"https://en.wikipedia.org/wiki/Project_Jupyter\">here</a></p>\n\n<ul>\n    <li><b>Jupyter Notebooks is a transformational technology.</b>  Both <i>The Atlantic</i> and <i>Nature</i> magazines cite it as an important part of the future of scientific publishing.</li>\n    <li><b>Jupyter Notebooks was not the first program to support interactive notebook creation.</b>  Before Jupyter Notebooks, the same type of interface was part of other software such as Maple and Wolfram Mathematica.</li>\n    <li><b>Jupyter Notebooks is a part of Project Jupyter</b> Project Jupyter created JupyterLab and JupyterHub along with Jupyter Notebooks as part of an effort to create open-source interactive computing services that serve multiple languages, among them the nominal Julia, Python and R.</li>\n    </ul>\n    \nOn their <a href=\"https://jupyter.org/about\"> About Us page</a>, Project Jupyter says about themselves:\n<blockquote>Project Jupyter is a non-profit, open-source project, born out of the IPython Project in 2014 as it evolved to support interactive data science and scientific computing across all programming languages. Jupyter will always be 100% open-source software, free for all to use and released under the liberal terms of the modified BSD license.</blockquote>\n    \n   "
        },
        {
            "metadata": {},
            "cell_type": "markdown",
            "source": "The above cell contains a horizontal line, hyperlinks, bulleted list, and blockquote."
        },
        {
            "metadata": {},
            "cell_type": "code",
            "source": "",
            "execution_count": null,
            "outputs": []
        }
    ],
    "metadata": {
        "kernelspec": {
            "name": "python3",
            "display_name": "Python 3.9",
            "language": "python"
        },
        "language_info": {
            "name": "python",
            "version": "3.9.12",
            "mimetype": "text/x-python",
            "codemirror_mode": {
                "name": "ipython",
                "version": 3
            },
            "pygments_lexer": "ipython3",
            "nbconvert_exporter": "python",
            "file_extension": ".py"
        }
    },
    "nbformat": 4,
    "nbformat_minor": 4
}